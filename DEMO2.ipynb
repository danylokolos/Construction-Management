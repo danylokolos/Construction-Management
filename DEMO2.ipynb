{
 "cells": [
  {
   "cell_type": "code",
   "execution_count": 1,
   "metadata": {},
   "outputs": [],
   "source": [
    "from CM_Software import CM_Predict"
   ]
  },
  {
   "cell_type": "code",
   "execution_count": 25,
   "metadata": {},
   "outputs": [
    {
     "name": "stdout",
     "output_type": "stream",
     "text": [
      "Days per unit: 0.282\n",
      "Units per Day: 3.551\n",
      "Units: M3\n"
     ]
    }
   ],
   "source": [
    "text_field = 'Mech Excavation upto 4.5M & above'\n",
    "CM_Predict(text_field)"
   ]
  },
  {
   "cell_type": "code",
   "execution_count": 26,
   "metadata": {},
   "outputs": [
    {
     "name": "stdout",
     "output_type": "stream",
     "text": [
      "Days per unit: 51.550\n",
      "Units per Day: 0.019\n",
      "Units: EA\n"
     ]
    }
   ],
   "source": [
    "text_field = 'piling work dynamic test'\n",
    "CM_Predict(text_field)"
   ]
  },
  {
   "cell_type": "code",
   "execution_count": 27,
   "metadata": {},
   "outputs": [
    {
     "name": "stdout",
     "output_type": "stream",
     "text": [
      "Days per unit: 3.764\n",
      "Units per Day: 0.266\n",
      "Units: M2 \n"
     ]
    }
   ],
   "source": [
    "text_field = 'Facade work-8 mm Spandrel Glass'\n",
    "CM_Predict(text_field)"
   ]
  },
  {
   "cell_type": "code",
   "execution_count": 28,
   "metadata": {},
   "outputs": [
    {
     "name": "stdout",
     "output_type": "stream",
     "text": [
      "Days per unit: 95.464\n",
      "Units per Day: 0.010\n",
      "Units: EA\n"
     ]
    }
   ],
   "source": [
    "text_field = 'electrical work'\n",
    "CM_Predict(text_field)"
   ]
  },
  {
   "cell_type": "code",
   "execution_count": 31,
   "metadata": {},
   "outputs": [
    {
     "name": "stdout",
     "output_type": "stream",
     "text": [
      "Days per unit: 0.146\n",
      "Units per Day: 6.860\n",
      "Units: EA\n"
     ]
    }
   ],
   "source": [
    "text_field = ''\n",
    "CM_Predict(text_field)"
   ]
  },
  {
   "cell_type": "code",
   "execution_count": null,
   "metadata": {},
   "outputs": [],
   "source": []
  }
 ],
 "metadata": {
  "kernelspec": {
   "display_name": "Python 3",
   "language": "python",
   "name": "python3"
  },
  "language_info": {
   "codemirror_mode": {
    "name": "ipython",
    "version": 3
   },
   "file_extension": ".py",
   "mimetype": "text/x-python",
   "name": "python",
   "nbconvert_exporter": "python",
   "pygments_lexer": "ipython3",
   "version": "3.8.5"
  }
 },
 "nbformat": 4,
 "nbformat_minor": 4
}
