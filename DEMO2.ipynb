{
 "cells": [
  {
   "cell_type": "code",
   "execution_count": 1,
   "metadata": {},
   "outputs": [],
   "source": [
    "from CM_Software import CM_Predict"
   ]
  },
  {
   "cell_type": "code",
   "execution_count": 2,
   "metadata": {},
   "outputs": [
    {
     "name": "stdout",
     "output_type": "stream",
     "text": [
      "Days per unit: 0.282\n",
      "Units per Day: 3.551\n",
      "Units: M3\n"
     ]
    }
   ],
   "source": [
    "CM_Predict('Mech Excavation upto 4.5M & above')"
   ]
  },
  {
   "cell_type": "code",
   "execution_count": 3,
   "metadata": {},
   "outputs": [
    {
     "name": "stdout",
     "output_type": "stream",
     "text": [
      "Days per unit: 0.152\n",
      "Units per Day: 6.560\n",
      "Units: M3\n"
     ]
    }
   ],
   "source": [
    "CM_Predict('mech excavation upto 4.5M')"
   ]
  },
  {
   "cell_type": "code",
   "execution_count": 7,
   "metadata": {},
   "outputs": [
    {
     "name": "stdout",
     "output_type": "stream",
     "text": [
      "Days per unit: 3.764\n",
      "Units per Day: 0.266\n",
      "Units: M2 \n"
     ]
    }
   ],
   "source": [
    "CM_Predict('Facade work-8 mm Spandrel Glass')"
   ]
  },
  {
   "cell_type": "code",
   "execution_count": 8,
   "metadata": {},
   "outputs": [
    {
     "name": "stdout",
     "output_type": "stream",
     "text": [
      "Days per unit: 45.307\n",
      "Units per Day: 0.022\n",
      "Units: M\n"
     ]
    }
   ],
   "source": [
    "CM_Predict('SITC of Soil CI Pipe 100Mm Dia Is 3989')"
   ]
  },
  {
   "cell_type": "code",
   "execution_count": 9,
   "metadata": {},
   "outputs": [
    {
     "name": "stdout",
     "output_type": "stream",
     "text": [
      "Days per unit: 95.464\n",
      "Units per Day: 0.010\n",
      "Units: EA\n"
     ]
    }
   ],
   "source": [
    "CM_Predict('electrical work')"
   ]
  },
  {
   "cell_type": "code",
   "execution_count": null,
   "metadata": {},
   "outputs": [],
   "source": []
  }
 ],
 "metadata": {
  "kernelspec": {
   "display_name": "Python 3",
   "language": "python",
   "name": "python3"
  },
  "language_info": {
   "codemirror_mode": {
    "name": "ipython",
    "version": 3
   },
   "file_extension": ".py",
   "mimetype": "text/x-python",
   "name": "python",
   "nbconvert_exporter": "python",
   "pygments_lexer": "ipython3",
   "version": "3.8.5"
  }
 },
 "nbformat": 4,
 "nbformat_minor": 4
}
