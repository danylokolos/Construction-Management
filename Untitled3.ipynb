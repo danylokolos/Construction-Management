{
 "cells": [
  {
   "cell_type": "code",
   "execution_count": 1,
   "metadata": {},
   "outputs": [],
   "source": [
    "from CM_Software import CM_Predict"
   ]
  },
  {
   "cell_type": "code",
   "execution_count": 2,
   "metadata": {},
   "outputs": [
    {
     "name": "stdout",
     "output_type": "stream",
     "text": [
      "Days per unit: 0.106\n",
      "Units per Day: 9.393\n",
      "Units: M3\n"
     ]
    }
   ],
   "source": [
    "CM_Predict('Supp & Stack Good earth')"
   ]
  },
  {
   "cell_type": "code",
   "execution_count": 3,
   "metadata": {},
   "outputs": [
    {
     "name": "stdout",
     "output_type": "stream",
     "text": [
      "Days per unit: 159.576\n",
      "Units per Day: 0.006\n",
      "Units: M3\n"
     ]
    }
   ],
   "source": [
    "CM_Predict('Supp & Stack Good earth horticulture')"
   ]
  },
  {
   "cell_type": "code",
   "execution_count": 4,
   "metadata": {},
   "outputs": [
    {
     "name": "stdout",
     "output_type": "stream",
     "text": [
      "Days per unit: 2.762\n",
      "Units per Day: 0.362\n",
      "Units: M2 \n"
     ]
    }
   ],
   "source": [
    "CM_Predict('brick work')"
   ]
  },
  {
   "cell_type": "code",
   "execution_count": 5,
   "metadata": {},
   "outputs": [
    {
     "name": "stdout",
     "output_type": "stream",
     "text": [
      "Days per unit: 2.762\n",
      "Units per Day: 0.362\n",
      "Units: M2 \n"
     ]
    }
   ],
   "source": [
    "CM_Predict('brick work p&l')"
   ]
  },
  {
   "cell_type": "code",
   "execution_count": 6,
   "metadata": {},
   "outputs": [
    {
     "name": "stdout",
     "output_type": "stream",
     "text": [
      "Days per unit: 48.384\n",
      "Units per Day: 0.021\n",
      "Units: M3\n"
     ]
    }
   ],
   "source": [
    "CM_Predict('brick work p&l AAC Block  above Floor XXI')"
   ]
  },
  {
   "cell_type": "code",
   "execution_count": null,
   "metadata": {},
   "outputs": [],
   "source": []
  }
 ],
 "metadata": {
  "kernelspec": {
   "display_name": "Python 3",
   "language": "python",
   "name": "python3"
  },
  "language_info": {
   "codemirror_mode": {
    "name": "ipython",
    "version": 3
   },
   "file_extension": ".py",
   "mimetype": "text/x-python",
   "name": "python",
   "nbconvert_exporter": "python",
   "pygments_lexer": "ipython3",
   "version": "3.8.5"
  }
 },
 "nbformat": 4,
 "nbformat_minor": 4
}
