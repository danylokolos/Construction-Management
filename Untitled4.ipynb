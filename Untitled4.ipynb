{
 "cells": [
  {
   "cell_type": "code",
   "execution_count": 6,
   "id": "35e1ce93",
   "metadata": {},
   "outputs": [],
   "source": [
    "from CM_Software import CM_Predict"
   ]
  },
  {
   "cell_type": "code",
   "execution_count": 10,
   "id": "5a183942",
   "metadata": {},
   "outputs": [
    {
     "name": "stdout",
     "output_type": "stream",
     "text": [
      "========== Prediction for Activity 1: fire sys ==========\n",
      "Predicted Completion Rate, Days per Unit: 826.000 (min: 826.000, max: 826.000)\n",
      "Predicted Completion Rate, Units per Day: 0.001 (min: 0.001, max: 0.001)\n",
      "Units: EA\n",
      "Quantity: 33\n",
      "Start Date: 2022-07-22\n",
      "End Date: 2023-07-22\n",
      "--> Insufficient Time Allocated to Activity\n",
      "--> Predicted Activity End Date: 2097-03-08\n",
      "========== Prediction for Activity 2: fire  ==========\n",
      "Predicted Completion Rate, Days per Unit: 154.114 (min: 0.055, max: 826.000)\n",
      "Predicted Completion Rate, Units per Day: 0.006 (min: 0.001, max: 18.160)\n",
      "Units: EA\n",
      "Quantity: 55\n",
      "Start Date: 2097-03-08\n",
      "End Date: 2023-07-22\n",
      "--> Insufficient Time Allocated to Activity\n",
      "--> Predicted Activity End Date: 2120-05-24\n",
      "========== Prediction for Activity 3: hvac  ==========\n",
      "Predicted Completion Rate, Days per Unit: 5.420 (min: 0.299, max: 826.000)\n",
      "Predicted Completion Rate, Units per Day: 0.185 (min: 0.001, max: 3.347)\n",
      "Units: EA\n",
      "Quantity: 77\n",
      "Start Date: 2120-05-24\n",
      "End Date: 2023-07-22\n",
      "--> Insufficient Time Allocated to Activity\n",
      "--> Predicted Activity End Date: 2121-07-16\n"
     ]
    }
   ],
   "source": [
    "Quantity = ['33','55','77','22','65']\n",
    "Transformation = ['fire','fire','hvac','','']\n",
    "Description = ['sys','','','','']\n",
    "EndDate = '2023-07-22'\n",
    "StartDate = '2022-07-22'\n",
    "CM_Predict(Quantity,Transformation,Description,StartDate,EndDate)\n"
   ]
  },
  {
   "cell_type": "code",
   "execution_count": null,
   "id": "23445ff1",
   "metadata": {},
   "outputs": [],
   "source": []
  }
 ],
 "metadata": {
  "kernelspec": {
   "display_name": "Python 3 (ipykernel)",
   "language": "python",
   "name": "python3"
  },
  "language_info": {
   "codemirror_mode": {
    "name": "ipython",
    "version": 3
   },
   "file_extension": ".py",
   "mimetype": "text/x-python",
   "name": "python",
   "nbconvert_exporter": "python",
   "pygments_lexer": "ipython3",
   "version": "3.9.7"
  }
 },
 "nbformat": 4,
 "nbformat_minor": 5
}
