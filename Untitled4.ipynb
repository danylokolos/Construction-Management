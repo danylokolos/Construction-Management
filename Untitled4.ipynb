{
 "cells": [
  {
   "cell_type": "code",
   "execution_count": 4,
   "id": "35e1ce93",
   "metadata": {},
   "outputs": [],
   "source": [
    "from CM_Software import CM_Predict"
   ]
  },
  {
   "cell_type": "code",
   "execution_count": 22,
   "id": "5a183942",
   "metadata": {},
   "outputs": [
    {
     "name": "stdout",
     "output_type": "stream",
     "text": [
      "========== Prediction for Activity 1: piling work excavation ==========\n",
      "Predicted Completion Rate, Days per Unit: 0.086 (min: 0.008, max: 100.000)\n",
      "Predicted Completion Rate, Units per Day: 11.640 (min: 0.010, max: 128.675)\n",
      "Units: EA\n",
      "Quantity: 100\n",
      "Start Date: 2021-12-10\n",
      "End Date: 2022-02-01\n",
      "--> Sufficient Time Allocated to Project\n",
      "--> Predicted Activity End Date: 2021-12-19\n"
     ]
    }
   ],
   "source": [
    "Quantity = ['100','','','','']\n",
    "Transformation = ['piling work','','','','']\n",
    "Description = ['excavation','','','','']\n",
    "StartDate = '2021-12-10'\n",
    "EndDate = '2022-02-01'\n",
    "\n",
    "output = CM_Predict(Quantity,Transformation,Description,StartDate,EndDate)\n",
    "print('\\n'.join(output))"
   ]
  },
  {
   "cell_type": "code",
   "execution_count": 23,
   "id": "23445ff1",
   "metadata": {},
   "outputs": [
    {
     "name": "stdout",
     "output_type": "stream",
     "text": [
      "========== Prediction for Activity 1: earth work excavation ==========\n",
      "Predicted Completion Rate, Days per Unit: 0.025 (min: 0.019, max: 0.077)\n",
      "Predicted Completion Rate, Units per Day: 40.175 (min: 12.919, max: 52.366)\n",
      "Units: M3\n",
      "Quantity: 100\n",
      "Start Date: 2021-12-10\n",
      "End Date: 2022-02-01\n",
      "--> Sufficient Time Allocated to Project\n",
      "--> Predicted Activity End Date: 2021-12-13\n",
      "========== Prediction for Activity 2: concrete work rcc ==========\n",
      "Predicted Completion Rate, Days per Unit: 0.041 (min: 0.002, max: 10.325)\n",
      "Predicted Completion Rate, Units per Day: 24.511 (min: 0.097, max: 458.387)\n",
      "Units: M3\n",
      "Quantity: 1000\n",
      "Start Date: 2021-12-13\n",
      "End Date: 2022-02-01\n",
      "--> Sufficient Time Allocated to Project\n",
      "--> Predicted Activity End Date: 2022-01-23\n",
      "========== Prediction for Activity 3: flooring work cement plaster skirting ==========\n",
      "Predicted Completion Rate, Days per Unit: 0.332 (min: 0.332, max: 0.332)\n",
      "Predicted Completion Rate, Units per Day: 3.015 (min: 3.015, max: 3.015)\n",
      "Units: M2 \n",
      "Quantity: 200\n",
      "Start Date: 2022-01-23\n",
      "End Date: 2022-02-01\n",
      "--> Insufficient Time Allocated to Activity\n",
      "--> Predicted Activity End Date: 2022-03-31\n"
     ]
    }
   ],
   "source": [
    "Quantity = ['100','1000','200','','']\n",
    "Transformation = ['earth work','concrete work','flooring work','','']\n",
    "Description = ['excavation','rcc','cement plaster skirting','','']\n",
    "StartDate = '2021-12-10'\n",
    "EndDate = '2022-02-01'\n",
    "\n",
    "output = CM_Predict(Quantity,Transformation,Description,StartDate,EndDate)\n",
    "print('\\n'.join(output))"
   ]
  },
  {
   "cell_type": "code",
   "execution_count": null,
   "id": "3c6cc40d",
   "metadata": {},
   "outputs": [],
   "source": []
  }
 ],
 "metadata": {
  "kernelspec": {
   "display_name": "Python 3 (ipykernel)",
   "language": "python",
   "name": "python3"
  },
  "language_info": {
   "codemirror_mode": {
    "name": "ipython",
    "version": 3
   },
   "file_extension": ".py",
   "mimetype": "text/x-python",
   "name": "python",
   "nbconvert_exporter": "python",
   "pygments_lexer": "ipython3",
   "version": "3.9.7"
  }
 },
 "nbformat": 4,
 "nbformat_minor": 5
}
